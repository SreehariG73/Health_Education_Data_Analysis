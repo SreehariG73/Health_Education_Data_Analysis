{
 "cells": [
  {
   "cell_type": "code",
   "execution_count": 2,
   "metadata": {},
   "outputs": [],
   "source": [
    "import pandas as pd\n",
    "data=pd.read_csv('Health_education.csv')"
   ]
  },
  {
   "cell_type": "code",
   "execution_count": 3,
   "metadata": {},
   "outputs": [
    {
     "data": {
      "text/plain": [
       "Category                    0\n",
       "Date                        0\n",
       "DOW                       139\n",
       "Start Time                 32\n",
       "End Time                   34\n",
       "Hours                       6\n",
       "Program                     0\n",
       "Facilitator 1              22\n",
       "Facilitator 2            2035\n",
       "Expected Attendance      1243\n",
       "Actual Attendance          11\n",
       "Program Delivered          11\n",
       "Format                    138\n",
       "Campus                    169\n",
       "Everett                  2265\n",
       "Global                   2222\n",
       "Pullman                   495\n",
       "Spokane                  2237\n",
       "Tri Cities               2243\n",
       "Vancouver                2227\n",
       "Open System-wide.1       2269\n",
       "Non-WSU                  2268\n",
       "Unsure                   2268\n",
       "Main Role On Campus       442\n",
       "Campus Community         1181\n",
       "Organization             1641\n",
       "Contact Name & Number    2103\n",
       "Notes                    2066\n",
       "Location                 1420\n",
       "Latitude                 1494\n",
       "Longitude                1494\n",
       "GPS Coordinates          1494\n",
       "dtype: int64"
      ]
     },
     "execution_count": 3,
     "metadata": {},
     "output_type": "execute_result"
    }
   ],
   "source": [
    "data.isna().sum()"
   ]
  }
 ],
 "metadata": {
  "kernelspec": {
   "display_name": "base",
   "language": "python",
   "name": "python3"
  },
  "language_info": {
   "codemirror_mode": {
    "name": "ipython",
    "version": 3
   },
   "file_extension": ".py",
   "mimetype": "text/x-python",
   "name": "python",
   "nbconvert_exporter": "python",
   "pygments_lexer": "ipython3",
   "version": "3.9.13"
  }
 },
 "nbformat": 4,
 "nbformat_minor": 2
}
