{
  "nbformat": 4,
  "nbformat_minor": 0,
  "metadata": {
    "colab": {
      "provenance": []
    },
    "kernelspec": {
      "name": "python3",
      "display_name": "Python 3"
    },
    "language_info": {
      "name": "python"
    }
  },
  "cells": [
    {
      "cell_type": "code",
      "execution_count": 2,
      "metadata": {
        "colab": {
          "base_uri": "https://localhost:8080/"
        },
        "id": "Ewz3JWfAudwK",
        "outputId": "3bd5cb4f-a714-494d-9a30-63e1d3a05cc5"
      },
      "outputs": [
        {
          "output_type": "stream",
          "name": "stdout",
          "text": [
            "         Category       Date        DOW Start Time  End Time  Hours  \\\n",
            "1  Mandatory Prog 2023-01-07   Saturday   14:15:00  15:15:00    1.0   \n",
            "2  Mandatory Prog 2023-01-08     Sunday   10:30:00  11:30:00    1.0   \n",
            "3  Mandatory Prog 2023-01-11  Wednesday   10:00:00  11:00:00    1.0   \n",
            "4  Mandatory Prog 2023-01-17    Tuesday   15:00:00  16:00:00    1.0   \n",
            "9  Mandatory Prog 2023-08-13     Sunday   09:00:00  10:00:00    1.0   \n",
            "\n",
            "          Program  Facilitator 1 Facilitator 2  Expected Attendance  ...  \\\n",
            "1  Count on Cougs  Facilitator_1           NaN                  NaN  ...   \n",
            "2  Count on Cougs  Facilitator_1           NaN                  NaN  ...   \n",
            "3  Count on Cougs  Facilitator_1           NaN                  NaN  ...   \n",
            "4  Count on Cougs  Facilitator_1           NaN                  NaN  ...   \n",
            "9  Count on Cougs  Facilitator_1           NaN                  NaN  ...   \n",
            "\n",
            "   Unsure Main Role On Campus     Campus Community Organization  \\\n",
            "1     NaN       Undergraduate  First-year students          NaN   \n",
            "2     NaN       Undergraduate  First-year students          NaN   \n",
            "3     NaN       Undergraduate  First-year students          NaN   \n",
            "4     NaN       Undergraduate  First-year students          NaN   \n",
            "9     NaN       Undergraduate        Greek Student          NaN   \n",
            "\n",
            "   Contact Name & Number  Notes                    Location   Latitude  \\\n",
            "1                    NaN    NaN                   Todd Hall  46.729809   \n",
            "2                    NaN    NaN                   Todd Hall  46.729809   \n",
            "3                    NaN    NaN  Health Education Classroom  46.727551   \n",
            "4                    NaN    NaN  Health Education Classroom  46.727551   \n",
            "9                    NaN    NaN                   Todd 302   46.729809   \n",
            "\n",
            "    Longitude                           GPS Coordinates  \n",
            "1 -117.163473  46° 43' 47.3124'' N\\n117° 9' 48.5028'' W  \n",
            "2 -117.163473  46° 43' 47.3124'' N\\n117° 9' 48.5028'' W  \n",
            "3 -117.166117  46° 43' 39.1836'' N\\n117° 9' 58.0212'' W  \n",
            "4 -117.166117  46° 43' 39.1836'' N\\n117° 9' 58.0212'' W  \n",
            "9 -117.163473  46° 43' 47.3124'' N\\n117° 9' 48.5028'' W  \n",
            "\n",
            "[5 rows x 32 columns]\n"
          ]
        }
      ],
      "source": [
        "import pandas as pd\n",
        "import folium\n",
        "from folium.plugins import MarkerCluster\n",
        "\n",
        "#Add the filepath\n",
        "excel_file_path = '/content/sample_data/Health_education.xlsx'\n",
        "#Add actual sheet name\n",
        "sheet_name = 'Workshops_2019_2023'\n",
        "\n",
        "#Excel into a DataFrame\n",
        "df = pd.read_excel(excel_file_path, sheet_name=sheet_name)\n",
        "\n",
        "# Converting 'Latitude' and 'Longitude' columns to numeric\n",
        "df['Latitude'] = pd.to_numeric(df['Latitude'], errors='coerce')\n",
        "df['Longitude'] = pd.to_numeric(df['Longitude'], errors='coerce')\n",
        "\n",
        "# Na vlaues in latitude and longitude dropped\n",
        "df = df.dropna(subset=['Latitude', 'Longitude'])\n",
        "print(df.head())\n",
        "\n",
        "# Visualize data on a map using folium\n",
        "#Base map\n",
        "m = folium.Map(location=[df['Latitude'].mean(), df['Longitude'].mean()], zoom_start=5)\n",
        "\n",
        "#MarkerCluster layer\n",
        "marker_cluster = MarkerCluster().add_to(m)\n",
        "\n",
        "#Markers for each workshop\n",
        "for index, row in df.iterrows():\n",
        "    folium.Marker([row['Latitude'], row['Longitude']],\n",
        "                  popup=f\"{row['Location']}: {row['Program']}\",\n",
        "                  icon=None).add_to(marker_cluster)\n",
        "\n",
        "#HTML file\n",
        "m.save('Workshops.html')\n"
      ]
    }
  ]
}