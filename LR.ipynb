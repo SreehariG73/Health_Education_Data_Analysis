{
 "cells": [
  {
   "cell_type": "code",
   "execution_count": 1,
   "metadata": {},
   "outputs": [
    {
     "data": {
      "text/html": [
       "<div>\n",
       "<style scoped>\n",
       "    .dataframe tbody tr th:only-of-type {\n",
       "        vertical-align: middle;\n",
       "    }\n",
       "\n",
       "    .dataframe tbody tr th {\n",
       "        vertical-align: top;\n",
       "    }\n",
       "\n",
       "    .dataframe thead th {\n",
       "        text-align: right;\n",
       "    }\n",
       "</style>\n",
       "<table border=\"1\" class=\"dataframe\">\n",
       "  <thead>\n",
       "    <tr style=\"text-align: right;\">\n",
       "      <th></th>\n",
       "      <th>Category</th>\n",
       "      <th>Date</th>\n",
       "      <th>DOW</th>\n",
       "      <th>Start Time</th>\n",
       "      <th>End Time</th>\n",
       "      <th>Hours</th>\n",
       "      <th>Program</th>\n",
       "      <th>Facilitator 1</th>\n",
       "      <th>Expected Attendance</th>\n",
       "      <th>Actual Attendance</th>\n",
       "      <th>...</th>\n",
       "      <th>Vancouver</th>\n",
       "      <th>Non-WSU</th>\n",
       "      <th>Unsure</th>\n",
       "      <th>Main Role On Campus</th>\n",
       "      <th>Campus Community</th>\n",
       "      <th>Organization</th>\n",
       "      <th>Location</th>\n",
       "      <th>Latitude</th>\n",
       "      <th>Longitude</th>\n",
       "      <th>GPS Coordinates</th>\n",
       "    </tr>\n",
       "  </thead>\n",
       "  <tbody>\n",
       "    <tr>\n",
       "      <th>0</th>\n",
       "      <td>AOD+IMPACT</td>\n",
       "      <td>12/5/22</td>\n",
       "      <td>Monday</td>\n",
       "      <td>3:00:00 PM</td>\n",
       "      <td>4:00:00 PM</td>\n",
       "      <td>1.0</td>\n",
       "      <td>A Conscious Cheers</td>\n",
       "      <td>Facilitator_1</td>\n",
       "      <td>NaN</td>\n",
       "      <td>14.0</td>\n",
       "      <td>...</td>\n",
       "      <td>0</td>\n",
       "      <td>NaN</td>\n",
       "      <td>NaN</td>\n",
       "      <td>Undergraduate</td>\n",
       "      <td>Greek Student</td>\n",
       "      <td>NaN</td>\n",
       "      <td>NaN</td>\n",
       "      <td>NaN</td>\n",
       "      <td>NaN</td>\n",
       "      <td>NaN</td>\n",
       "    </tr>\n",
       "    <tr>\n",
       "      <th>1</th>\n",
       "      <td>Mandatory Prog</td>\n",
       "      <td>1/7/23</td>\n",
       "      <td>Saturday</td>\n",
       "      <td>2:15:00 PM</td>\n",
       "      <td>3:15:00 PM</td>\n",
       "      <td>1.0</td>\n",
       "      <td>Count on Cougs</td>\n",
       "      <td>Facilitator_1</td>\n",
       "      <td>NaN</td>\n",
       "      <td>7.0</td>\n",
       "      <td>...</td>\n",
       "      <td>0</td>\n",
       "      <td>NaN</td>\n",
       "      <td>NaN</td>\n",
       "      <td>Undergraduate</td>\n",
       "      <td>First-year students</td>\n",
       "      <td>NaN</td>\n",
       "      <td>Todd Hall</td>\n",
       "      <td>46.729809</td>\n",
       "      <td>-117.163473</td>\n",
       "      <td>46° 43' 47.3124'' N\\n117° 9' 48.5028'' W</td>\n",
       "    </tr>\n",
       "    <tr>\n",
       "      <th>2</th>\n",
       "      <td>Mandatory Prog</td>\n",
       "      <td>1/8/23</td>\n",
       "      <td>Sunday</td>\n",
       "      <td>10:30:00 AM</td>\n",
       "      <td>11:30:00 AM</td>\n",
       "      <td>1.0</td>\n",
       "      <td>Count on Cougs</td>\n",
       "      <td>Facilitator_1</td>\n",
       "      <td>NaN</td>\n",
       "      <td>22.0</td>\n",
       "      <td>...</td>\n",
       "      <td>0</td>\n",
       "      <td>NaN</td>\n",
       "      <td>NaN</td>\n",
       "      <td>Undergraduate</td>\n",
       "      <td>First-year students</td>\n",
       "      <td>NaN</td>\n",
       "      <td>Todd Hall</td>\n",
       "      <td>46.729809</td>\n",
       "      <td>-117.163473</td>\n",
       "      <td>46° 43' 47.3124'' N\\n117° 9' 48.5028'' W</td>\n",
       "    </tr>\n",
       "    <tr>\n",
       "      <th>3</th>\n",
       "      <td>Mandatory Prog</td>\n",
       "      <td>1/11/23</td>\n",
       "      <td>Wednesday</td>\n",
       "      <td>10:00:00 AM</td>\n",
       "      <td>11:00:00 AM</td>\n",
       "      <td>1.0</td>\n",
       "      <td>Count on Cougs</td>\n",
       "      <td>Facilitator_1</td>\n",
       "      <td>NaN</td>\n",
       "      <td>14.0</td>\n",
       "      <td>...</td>\n",
       "      <td>0</td>\n",
       "      <td>NaN</td>\n",
       "      <td>NaN</td>\n",
       "      <td>Undergraduate</td>\n",
       "      <td>First-year students</td>\n",
       "      <td>NaN</td>\n",
       "      <td>G41</td>\n",
       "      <td>46.727382</td>\n",
       "      <td>-117.165967</td>\n",
       "      <td>46° 43' 38.5752'' N\\n117° 9' 57.4812'' W</td>\n",
       "    </tr>\n",
       "    <tr>\n",
       "      <th>4</th>\n",
       "      <td>Mandatory Prog</td>\n",
       "      <td>1/17/23</td>\n",
       "      <td>Tuesday</td>\n",
       "      <td>3:00:00 PM</td>\n",
       "      <td>4:00:00 PM</td>\n",
       "      <td>1.0</td>\n",
       "      <td>Count on Cougs</td>\n",
       "      <td>Facilitator_1</td>\n",
       "      <td>NaN</td>\n",
       "      <td>21.0</td>\n",
       "      <td>...</td>\n",
       "      <td>0</td>\n",
       "      <td>NaN</td>\n",
       "      <td>NaN</td>\n",
       "      <td>Undergraduate</td>\n",
       "      <td>First-year students</td>\n",
       "      <td>NaN</td>\n",
       "      <td>G41</td>\n",
       "      <td>46.727382</td>\n",
       "      <td>-117.165967</td>\n",
       "      <td>46° 43' 38.5752'' N\\n117° 9' 57.4812'' W</td>\n",
       "    </tr>\n",
       "  </tbody>\n",
       "</table>\n",
       "<p>5 rows × 29 columns</p>\n",
       "</div>"
      ],
      "text/plain": [
       "         Category     Date        DOW   Start Time     End Time  Hours  \\\n",
       "0      AOD+IMPACT  12/5/22     Monday   3:00:00 PM   4:00:00 PM    1.0   \n",
       "1  Mandatory Prog   1/7/23   Saturday   2:15:00 PM   3:15:00 PM    1.0   \n",
       "2  Mandatory Prog   1/8/23     Sunday  10:30:00 AM  11:30:00 AM    1.0   \n",
       "3  Mandatory Prog  1/11/23  Wednesday  10:00:00 AM  11:00:00 AM    1.0   \n",
       "4  Mandatory Prog  1/17/23    Tuesday   3:00:00 PM   4:00:00 PM    1.0   \n",
       "\n",
       "              Program  Facilitator 1  Expected Attendance  Actual Attendance  \\\n",
       "0  A Conscious Cheers  Facilitator_1                  NaN               14.0   \n",
       "1      Count on Cougs  Facilitator_1                  NaN                7.0   \n",
       "2      Count on Cougs  Facilitator_1                  NaN               22.0   \n",
       "3      Count on Cougs  Facilitator_1                  NaN               14.0   \n",
       "4      Count on Cougs  Facilitator_1                  NaN               21.0   \n",
       "\n",
       "   ... Vancouver Non-WSU Unsure Main Role On Campus     Campus Community  \\\n",
       "0  ...         0     NaN    NaN       Undergraduate        Greek Student   \n",
       "1  ...         0     NaN    NaN       Undergraduate  First-year students   \n",
       "2  ...         0     NaN    NaN       Undergraduate  First-year students   \n",
       "3  ...         0     NaN    NaN       Undergraduate  First-year students   \n",
       "4  ...         0     NaN    NaN       Undergraduate  First-year students   \n",
       "\n",
       "   Organization   Location   Latitude     Longitude  \\\n",
       "0           NaN        NaN        NaN           NaN   \n",
       "1           NaN  Todd Hall  46.729809   -117.163473   \n",
       "2           NaN  Todd Hall  46.729809   -117.163473   \n",
       "3           NaN        G41  46.727382   -117.165967   \n",
       "4           NaN        G41  46.727382   -117.165967   \n",
       "\n",
       "                            GPS Coordinates  \n",
       "0                                       NaN  \n",
       "1  46° 43' 47.3124'' N\\n117° 9' 48.5028'' W  \n",
       "2  46° 43' 47.3124'' N\\n117° 9' 48.5028'' W  \n",
       "3  46° 43' 38.5752'' N\\n117° 9' 57.4812'' W  \n",
       "4  46° 43' 38.5752'' N\\n117° 9' 57.4812'' W  \n",
       "\n",
       "[5 rows x 29 columns]"
      ]
     },
     "execution_count": 1,
     "metadata": {},
     "output_type": "execute_result"
    }
   ],
   "source": [
    "import pandas as pd\n",
    "data=pd.read_csv('Data/Health_education_cleaned.csv')    # Reading the data\n",
    "data.head()"
   ]
  },
  {
   "cell_type": "code",
   "execution_count": 7,
   "metadata": {},
   "outputs": [],
   "source": [
    "from sklearn.preprocessing import LabelEncoder\n",
    "\n",
    "# Create an instance of LabelEncoder\n",
    "label_encoder = LabelEncoder()\n",
    "\n",
    "# Fit and transform the category column\n",
    "data['category_encoded'] = label_encoder.fit_transform(data['Category'])\n",
    "data.drop(['Category'],axis=1,inplace=True)\n"
   ]
  },
  {
   "cell_type": "code",
   "execution_count": 12,
   "metadata": {},
   "outputs": [],
   "source": [
    "# Assuming your date column is named 'date'\n",
    "data['Date'] = pd.to_datetime(data['Date'])\n",
    "\n",
    "# Extracting the year, month, and day from the date column\n",
    "data['year'] = data['Date'].dt.year\n",
    "data['month'] = data['Date'].dt.month\n",
    "data['day'] = data['Date'].dt.day\n",
    "\n",
    "# Dropping the original date column\n",
    "data.drop('Date', axis=1, inplace=True)\n",
    "\n",
    "# Create an instance of LabelEncoder\n",
    "label_encoder = LabelEncoder()\n",
    "\n",
    "# Fit and transform the 'DOW' column\n",
    "data['DOW_encoded'] = label_encoder.fit_transform(data['DOW'])\n",
    "data.drop(['DOW'], axis=1, inplace=True)\n"
   ]
  },
  {
   "cell_type": "code",
   "execution_count": 14,
   "metadata": {},
   "outputs": [],
   "source": [
    "data['Start Time'].fillna(\"12:00:00 PM\", inplace=True)\n",
    "data['End Time'].fillna(\"1:00:00 PM\", inplace=True)\n"
   ]
  },
  {
   "cell_type": "code",
   "execution_count": 15,
   "metadata": {},
   "outputs": [
    {
     "data": {
      "text/plain": [
       "(33, 31)"
      ]
     },
     "execution_count": 15,
     "metadata": {},
     "output_type": "execute_result"
    }
   ],
   "source": [
    "filtered_data = data[(data['Start Time'] == \"12:00:00 PM\") & (data['End Time'] == \"12:00:00 PM\")]\n",
    "filtered_data.shape\n"
   ]
  },
  {
   "cell_type": "code",
   "execution_count": 16,
   "metadata": {},
   "outputs": [],
   "source": [
    "# Assuming your dataframe is named 'data' and the columns are named 'Start Time' and 'End Time'\n",
    "data['Start Time'] = pd.to_datetime(data['Start Time'])\n",
    "data['End Time'] = pd.to_datetime(data['End Time'])\n",
    "\n",
    "# Extracting the hour and minute components from the Start Time and End Time columns\n",
    "data['Start Hour'] = data['Start Time'].dt.hour\n",
    "data['Start Minute'] = data['Start Time'].dt.minute\n",
    "data['End Hour'] = data['End Time'].dt.hour\n",
    "data['End Minute'] = data['End Time'].dt.minute\n",
    "\n",
    "# Dropping the original Start Time and End Time columns\n",
    "data.drop(['Start Time', 'End Time'], axis=1, inplace=True)\n"
   ]
  },
  {
   "cell_type": "code",
   "execution_count": 18,
   "metadata": {},
   "outputs": [],
   "source": [
    "# Fit and transform the \"Program\" column\n",
    "data['Program_encoded'] = label_encoder.fit_transform(data['Program'])\n",
    "data.drop(['Program'], axis=1, inplace=True)\n"
   ]
  },
  {
   "cell_type": "code",
   "execution_count": 19,
   "metadata": {},
   "outputs": [],
   "source": [
    "data['Facilitator 1_encoded'] = label_encoder.fit_transform(data['Facilitator 1'])\n",
    "data['Format_encoded'] = label_encoder.fit_transform(data['Format'])\n",
    "data.drop(['Facilitator 1','Format','Format.1'], axis=1, inplace=True)"
   ]
  },
  {
   "cell_type": "code",
   "execution_count": 21,
   "metadata": {},
   "outputs": [],
   "source": [
    "# Fill NA in expected attendance column with mean value\n",
    "data['Expected Attendance'].fillna(data['Expected Attendance'].mean(), inplace=True)\n"
   ]
  },
  {
   "cell_type": "code",
   "execution_count": 23,
   "metadata": {},
   "outputs": [],
   "source": [
    "data['Campus_encoded'] = label_encoder.fit_transform(data['Campus'])\n",
    "data['Unsure'].fillna(0, inplace=True)\n",
    "data['Non-WSU'].fillna(0, inplace=True)\n",
    "data.drop(['Campus','Main Role On Campus','Campus Community','Organization','Location','GPS Coordinates'], axis=1, inplace=True)\n",
    "\n"
   ]
  },
  {
   "cell_type": "code",
   "execution_count": 22,
   "metadata": {},
   "outputs": [
    {
     "data": {
      "text/html": [
       "<div>\n",
       "<style scoped>\n",
       "    .dataframe tbody tr th:only-of-type {\n",
       "        vertical-align: middle;\n",
       "    }\n",
       "\n",
       "    .dataframe tbody tr th {\n",
       "        vertical-align: top;\n",
       "    }\n",
       "\n",
       "    .dataframe thead th {\n",
       "        text-align: right;\n",
       "    }\n",
       "</style>\n",
       "<table border=\"1\" class=\"dataframe\">\n",
       "  <thead>\n",
       "    <tr style=\"text-align: right;\">\n",
       "      <th></th>\n",
       "      <th>Hours</th>\n",
       "      <th>Expected Attendance</th>\n",
       "      <th>Actual Attendance</th>\n",
       "      <th>Program Delivered</th>\n",
       "      <th>Campus</th>\n",
       "      <th>Everett</th>\n",
       "      <th>Global</th>\n",
       "      <th>Pullman</th>\n",
       "      <th>Spokane</th>\n",
       "      <th>Tri Cities</th>\n",
       "      <th>...</th>\n",
       "      <th>month</th>\n",
       "      <th>day</th>\n",
       "      <th>DOW_encoded</th>\n",
       "      <th>Start Hour</th>\n",
       "      <th>Start Minute</th>\n",
       "      <th>End Hour</th>\n",
       "      <th>End Minute</th>\n",
       "      <th>Program_encoded</th>\n",
       "      <th>Facilitator 1_encoded</th>\n",
       "      <th>Format_encoded</th>\n",
       "    </tr>\n",
       "  </thead>\n",
       "  <tbody>\n",
       "    <tr>\n",
       "      <th>0</th>\n",
       "      <td>1.0</td>\n",
       "      <td>33.153996</td>\n",
       "      <td>14.0</td>\n",
       "      <td>Yes</td>\n",
       "      <td>Pullman</td>\n",
       "      <td>0</td>\n",
       "      <td>0</td>\n",
       "      <td>14</td>\n",
       "      <td>0</td>\n",
       "      <td>0</td>\n",
       "      <td>...</td>\n",
       "      <td>12</td>\n",
       "      <td>5</td>\n",
       "      <td>2</td>\n",
       "      <td>15</td>\n",
       "      <td>0</td>\n",
       "      <td>16</td>\n",
       "      <td>0</td>\n",
       "      <td>3</td>\n",
       "      <td>0</td>\n",
       "      <td>0</td>\n",
       "    </tr>\n",
       "    <tr>\n",
       "      <th>1</th>\n",
       "      <td>1.0</td>\n",
       "      <td>33.153996</td>\n",
       "      <td>7.0</td>\n",
       "      <td>Yes</td>\n",
       "      <td>Pullman</td>\n",
       "      <td>0</td>\n",
       "      <td>0</td>\n",
       "      <td>7</td>\n",
       "      <td>0</td>\n",
       "      <td>0</td>\n",
       "      <td>...</td>\n",
       "      <td>1</td>\n",
       "      <td>7</td>\n",
       "      <td>4</td>\n",
       "      <td>14</td>\n",
       "      <td>15</td>\n",
       "      <td>15</td>\n",
       "      <td>15</td>\n",
       "      <td>18</td>\n",
       "      <td>0</td>\n",
       "      <td>0</td>\n",
       "    </tr>\n",
       "    <tr>\n",
       "      <th>2</th>\n",
       "      <td>1.0</td>\n",
       "      <td>33.153996</td>\n",
       "      <td>22.0</td>\n",
       "      <td>Yes</td>\n",
       "      <td>Pullman</td>\n",
       "      <td>0</td>\n",
       "      <td>0</td>\n",
       "      <td>22</td>\n",
       "      <td>0</td>\n",
       "      <td>0</td>\n",
       "      <td>...</td>\n",
       "      <td>1</td>\n",
       "      <td>8</td>\n",
       "      <td>5</td>\n",
       "      <td>10</td>\n",
       "      <td>30</td>\n",
       "      <td>11</td>\n",
       "      <td>30</td>\n",
       "      <td>18</td>\n",
       "      <td>0</td>\n",
       "      <td>0</td>\n",
       "    </tr>\n",
       "    <tr>\n",
       "      <th>3</th>\n",
       "      <td>1.0</td>\n",
       "      <td>33.153996</td>\n",
       "      <td>14.0</td>\n",
       "      <td>Yes</td>\n",
       "      <td>Pullman</td>\n",
       "      <td>0</td>\n",
       "      <td>0</td>\n",
       "      <td>14</td>\n",
       "      <td>0</td>\n",
       "      <td>0</td>\n",
       "      <td>...</td>\n",
       "      <td>1</td>\n",
       "      <td>11</td>\n",
       "      <td>10</td>\n",
       "      <td>10</td>\n",
       "      <td>0</td>\n",
       "      <td>11</td>\n",
       "      <td>0</td>\n",
       "      <td>18</td>\n",
       "      <td>0</td>\n",
       "      <td>0</td>\n",
       "    </tr>\n",
       "    <tr>\n",
       "      <th>4</th>\n",
       "      <td>1.0</td>\n",
       "      <td>33.153996</td>\n",
       "      <td>21.0</td>\n",
       "      <td>Yes</td>\n",
       "      <td>Pullman</td>\n",
       "      <td>0</td>\n",
       "      <td>0</td>\n",
       "      <td>21</td>\n",
       "      <td>0</td>\n",
       "      <td>0</td>\n",
       "      <td>...</td>\n",
       "      <td>1</td>\n",
       "      <td>17</td>\n",
       "      <td>8</td>\n",
       "      <td>15</td>\n",
       "      <td>0</td>\n",
       "      <td>16</td>\n",
       "      <td>0</td>\n",
       "      <td>18</td>\n",
       "      <td>0</td>\n",
       "      <td>0</td>\n",
       "    </tr>\n",
       "  </tbody>\n",
       "</table>\n",
       "<p>5 rows × 32 columns</p>\n",
       "</div>"
      ],
      "text/plain": [
       "   Hours  Expected Attendance  Actual Attendance Program Delivered   Campus  \\\n",
       "0    1.0            33.153996               14.0               Yes  Pullman   \n",
       "1    1.0            33.153996                7.0               Yes  Pullman   \n",
       "2    1.0            33.153996               22.0               Yes  Pullman   \n",
       "3    1.0            33.153996               14.0               Yes  Pullman   \n",
       "4    1.0            33.153996               21.0               Yes  Pullman   \n",
       "\n",
       "   Everett  Global  Pullman  Spokane  Tri Cities  ...  month  day  \\\n",
       "0        0       0       14        0           0  ...     12    5   \n",
       "1        0       0        7        0           0  ...      1    7   \n",
       "2        0       0       22        0           0  ...      1    8   \n",
       "3        0       0       14        0           0  ...      1   11   \n",
       "4        0       0       21        0           0  ...      1   17   \n",
       "\n",
       "   DOW_encoded Start Hour Start Minute End Hour End Minute  Program_encoded  \\\n",
       "0            2         15            0       16          0                3   \n",
       "1            4         14           15       15         15               18   \n",
       "2            5         10           30       11         30               18   \n",
       "3           10         10            0       11          0               18   \n",
       "4            8         15            0       16          0               18   \n",
       "\n",
       "  Facilitator 1_encoded Format_encoded  \n",
       "0                     0              0  \n",
       "1                     0              0  \n",
       "2                     0              0  \n",
       "3                     0              0  \n",
       "4                     0              0  \n",
       "\n",
       "[5 rows x 32 columns]"
      ]
     },
     "execution_count": 22,
     "metadata": {},
     "output_type": "execute_result"
    }
   ],
   "source": [
    "data.head()"
   ]
  },
  {
   "cell_type": "code",
   "execution_count": 31,
   "metadata": {},
   "outputs": [
    {
     "data": {
      "text/plain": [
       "Hours                       6\n",
       "Expected Attendance         0\n",
       "Actual Attendance           0\n",
       "Program Delivered           0\n",
       "Everett                     0\n",
       "Global                      0\n",
       "Pullman                     0\n",
       "Spokane                     0\n",
       "Tri Cities                  0\n",
       "Vancouver                   0\n",
       "Non-WSU                     0\n",
       "Unsure                      0\n",
       "Latitude                 1494\n",
       "Longitude                1494\n",
       "category_encoded            0\n",
       "year                        0\n",
       "month                       0\n",
       "day                         0\n",
       "DOW_encoded                 0\n",
       "Start Hour                  0\n",
       "Start Minute                0\n",
       "End Hour                    0\n",
       "End Minute                  0\n",
       "Program_encoded             0\n",
       "Facilitator 1_encoded       0\n",
       "Format_encoded              0\n",
       "Campus_encoded              0\n",
       "dtype: int64"
      ]
     },
     "execution_count": 31,
     "metadata": {},
     "output_type": "execute_result"
    }
   ],
   "source": [
    "data.isnull().sum()\n"
   ]
  },
  {
   "cell_type": "code",
   "execution_count": 35,
   "metadata": {},
   "outputs": [],
   "source": [
    "data['Latitude'].dtype\n",
    "data['Longitude'].dtype\n",
    "data['Longitude'] = data['Longitude'].astype(float)\n"
   ]
  },
  {
   "cell_type": "code",
   "execution_count": 36,
   "metadata": {},
   "outputs": [],
   "source": [
    "data['Actual Attendance'].fillna(data['Actual Attendance'].mean(), inplace=True)\n",
    "data['Latitude'].fillna(data['Latitude'].mean(), inplace=True)\n",
    "data['Longitude'].fillna(data['Longitude'].mean(), inplace=True)\n",
    "data['Hours'].fillna(1, inplace=True)"
   ]
  },
  {
   "cell_type": "code",
   "execution_count": 47,
   "metadata": {},
   "outputs": [],
   "source": [
    "data.to_csv('Model_ready_data.csv')"
   ]
  },
  {
   "cell_type": "code",
   "execution_count": 2,
   "metadata": {},
   "outputs": [],
   "source": [
    "data=pd.read_csv('Data/Model_ready_data.csv')"
   ]
  },
  {
   "cell_type": "code",
   "execution_count": 3,
   "metadata": {},
   "outputs": [
    {
     "name": "stderr",
     "output_type": "stream",
     "text": [
      "/Users/sreehariguruprasad/opt/anaconda3/lib/python3.9/site-packages/scipy/__init__.py:155: UserWarning: A NumPy version >=1.18.5 and <1.25.0 is required for this version of SciPy (detected version 1.26.2\n",
      "  warnings.warn(f\"A NumPy version >={np_minversion} and <{np_maxversion}\"\n"
     ]
    }
   ],
   "source": [
    "from sklearn.model_selection import train_test_split\n",
    "x=data.drop(['Actual Attendance','Program Delivered'],axis=1)\n",
    "y=data['Actual Attendance']\n",
    "X_train, X_test, y_train, y_test = train_test_split(x, y, test_size=0.1, random_state=42)"
   ]
  },
  {
   "cell_type": "code",
   "execution_count": 4,
   "metadata": {},
   "outputs": [
    {
     "data": {
      "text/plain": [
       "LinearRegression()"
      ]
     },
     "execution_count": 4,
     "metadata": {},
     "output_type": "execute_result"
    }
   ],
   "source": [
    "from sklearn.linear_model import LinearRegression\n",
    "model=LinearRegression()\n",
    "model.fit(X_train,y_train)"
   ]
  },
  {
   "cell_type": "code",
   "execution_count": 5,
   "metadata": {},
   "outputs": [
    {
     "name": "stdout",
     "output_type": "stream",
     "text": [
      "MSE: 26.982634756706254\n",
      "R2 Score: 0.954487799093151\n"
     ]
    }
   ],
   "source": [
    "from sklearn.metrics import mean_squared_error, r2_score\n",
    "predictions=model.predict(X_test)\n",
    "mse=mean_squared_error(y_test,predictions)\n",
    "r2_score=r2_score(y_test,predictions)\n",
    "print(\"MSE:\",mse)\n",
    "print(\"R2 Score:\",r2_score) "
   ]
  },
  {
   "cell_type": "code",
   "execution_count": 7,
   "metadata": {},
   "outputs": [],
   "source": [
    "import numpy as np"
   ]
  },
  {
   "cell_type": "code",
   "execution_count": 10,
   "metadata": {},
   "outputs": [],
   "source": [
    "n=x.shape[0]\n",
    "p=x.shape[1]\n",
    "adjusted_r2 = 1 - (1 - r2_score) * ((n - 1) / (n - p - 1))"
   ]
  },
  {
   "cell_type": "code",
   "execution_count": 11,
   "metadata": {},
   "outputs": [
    {
     "name": "stdout",
     "output_type": "stream",
     "text": [
      "Adjusted R2 Score: 0.9539600037213498\n"
     ]
    }
   ],
   "source": [
    "print(\"Adjusted R2 Score:\",adjusted_r2)"
   ]
  }
 ],
 "metadata": {
  "kernelspec": {
   "display_name": "base",
   "language": "python",
   "name": "python3"
  },
  "language_info": {
   "codemirror_mode": {
    "name": "ipython",
    "version": 3
   },
   "file_extension": ".py",
   "mimetype": "text/x-python",
   "name": "python",
   "nbconvert_exporter": "python",
   "pygments_lexer": "ipython3",
   "version": "3.9.13"
  }
 },
 "nbformat": 4,
 "nbformat_minor": 2
}
